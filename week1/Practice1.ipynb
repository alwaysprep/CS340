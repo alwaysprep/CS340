{
    "metadata": {
        "language_info": {
            "codemirror_mode": {
                "version": 2, 
                "name": "ipython"
            }, 
            "file_extension": ".py", 
            "nbconvert_exporter": "python", 
            "mimetype": "text/x-python", 
            "pygments_lexer": "ipython2", 
            "name": "python", 
            "version": "2.7.11"
        }, 
        "kernelspec": {
            "display_name": "Python 2 with Spark 1.6", 
            "language": "python", 
            "name": "python2"
        }
    }, 
    "nbformat": 4, 
    "cells": [
        {
            "metadata": {}, 
            "cell_type": "markdown", 
            "source": "## Lambda as an expression"
        }, 
        {
            "metadata": {
                "collapsed": true
            }, 
            "cell_type": "markdown", 
            "source": "```py\nEpression is a line of code that returns a value.\n>>>3  ## values are expressions\n3\n>>>3**3 ## operations are expressions\n27\n>>> max([1,77,33,2]) ## function calls are expressions\n77\n>>>2 in [3, 5, 7, 2, 0] ## in operator is an expression\nTrue\n>>>lambda x: x**2 ## lambda is an expression\n<function <lambda> at 0x10b192320>\n>>>a = 33\u00a0## assignment is not an expression so no output returned\n>>>\n```"
        }, 
        {
            "metadata": {
                "collapsed": true
            }, 
            "outputs": [], 
            "cell_type": "code", 
            "execution_count": 2, 
            "source": "# we can assign an expression to a variable\nsquare = lambda x: x**2"
        }, 
        {
            "metadata": {
                "collapsed": false
            }, 
            "outputs": [
                {
                    "metadata": {}, 
                    "output_type": "execute_result", 
                    "execution_count": 3, 
                    "data": {
                        "text/plain": "function"
                    }
                }
            ], 
            "cell_type": "code", 
            "execution_count": 3, 
            "source": "type(square)"
        }, 
        {
            "metadata": {
                "collapsed": false
            }, 
            "outputs": [
                {
                    "metadata": {}, 
                    "output_type": "execute_result", 
                    "execution_count": 4, 
                    "data": {
                        "text/plain": "25"
                    }
                }
            ], 
            "cell_type": "code", 
            "execution_count": 4, 
            "source": "# lets run this function\nsquare(5)"
        }, 
        {
            "metadata": {}, 
            "cell_type": "markdown", 
            "source": "# MAP\n$$f(x)=x^2$$\n<img src=\"http://image.prntscr.com/image/5cc8480fc4424b6ab96b93ae0a5bb7cf.png\">"
        }, 
        {
            "metadata": {
                "collapsed": true
            }, 
            "outputs": [], 
            "cell_type": "code", 
            "execution_count": 7, 
            "source": "my_list = [1, 11, 3, 5, 2, 33, 4, 10, 23, 6, 24, 8, 7, 9, 13]"
        }, 
        {
            "metadata": {
                "collapsed": false
            }, 
            "outputs": [
                {
                    "output_type": "stream", 
                    "text": "[1, 121, 9, 25, 4, 1089, 16, 100, 529, 36, 576, 64, 49, 81, 169]\n[1, 121, 9, 25, 4, 1089, 16, 100, 529, 36, 576, 64, 49, 81, 169]\n", 
                    "name": "stdout"
                }
            ], 
            "cell_type": "code", 
            "execution_count": 8, 
            "source": "# Python's built-in map function uses either a lambda expression or a function name\nprint map(lambda x: x**2, my_list) \nprint map(square, my_list) "
        }, 
        {
            "metadata": {}, 
            "cell_type": "markdown", 
            "source": "### Lets define our own map function"
        }, 
        {
            "metadata": {
                "collapsed": false
            }, 
            "outputs": [], 
            "cell_type": "code", 
            "execution_count": 9, 
            "source": "def my_map(func, lis):\n    my_lis = []\n    for el in lis:\n        my_lis.append(func(el))\n    return my_lis"
        }, 
        {
            "metadata": {
                "collapsed": false
            }, 
            "outputs": [
                {
                    "output_type": "stream", 
                    "text": "[1, 121, 9, 25, 4, 1089, 16, 100, 529, 36, 576, 64, 49, 81, 169]\n[1, 121, 9, 25, 4, 1089, 16, 100, 529, 36, 576, 64, 49, 81, 169]\n", 
                    "name": "stdout"
                }
            ], 
            "cell_type": "code", 
            "execution_count": 10, 
            "source": "# my_map gives same result with map\nprint my_map(lambda x: x**2, my_list) \nprint map(lambda x: x**2, my_list)"
        }, 
        {
            "metadata": {}, 
            "cell_type": "markdown", 
            "source": "# FILTER\n<img src=\"http://image.prntscr.com/image/24fb66f5a0ff4b459aa737c7786e167a.png\" alt=\"Drawing\" style=\"width: 400px;\"/>"
        }, 
        {
            "metadata": {
                "collapsed": false
            }, 
            "outputs": [
                {
                    "metadata": {}, 
                    "output_type": "execute_result", 
                    "execution_count": 11, 
                    "data": {
                        "text/plain": "[2, 4, 10, 6, 24, 8]"
                    }
                }
            ], 
            "cell_type": "code", 
            "execution_count": 11, 
            "source": "filter(lambda x: x%2==0, my_list)"
        }, 
        {
            "metadata": {}, 
            "cell_type": "markdown", 
            "source": "### Lets define our own filter function"
        }, 
        {
            "metadata": {
                "collapsed": true
            }, 
            "outputs": [], 
            "cell_type": "code", 
            "execution_count": 12, 
            "source": "def my_filter(func, lis):\n    my_lis = []\n    for el in lis:\n        if func(el):\n            my_lis.append(el)\n    return my_lis"
        }, 
        {
            "metadata": {
                "collapsed": false
            }, 
            "outputs": [
                {
                    "output_type": "stream", 
                    "text": "[2, 4, 10, 6, 24, 8]\n[2, 4, 10, 6, 24, 8]\n", 
                    "name": "stdout"
                }
            ], 
            "cell_type": "code", 
            "execution_count": 13, 
            "source": "print my_filter(lambda x: x%2==0, my_list)\nprint filter(lambda x: x%2==0, my_list)"
        }, 
        {
            "metadata": {}, 
            "cell_type": "markdown", 
            "source": "# REDUCE\n<img src=\"http://image.prntscr.com/image/88dcfd647f984a77a3a6f37806d7fc64.png\" alt=\"Drawing\" style=\"width: 250px;\"/>"
        }, 
        {
            "metadata": {
                "collapsed": false
            }, 
            "outputs": [
                {
                    "metadata": {}, 
                    "output_type": "execute_result", 
                    "execution_count": 14, 
                    "data": {
                        "text/plain": "159"
                    }
                }
            ], 
            "cell_type": "code", 
            "execution_count": 14, 
            "source": "reduce(lambda x,y : x+y, my_list)"
        }, 
        {
            "metadata": {
                "collapsed": false
            }, 
            "outputs": [
                {
                    "metadata": {}, 
                    "output_type": "execute_result", 
                    "execution_count": 15, 
                    "data": {
                        "text/plain": "159"
                    }
                }
            ], 
            "cell_type": "code", 
            "execution_count": 15, 
            "source": "sum(my_list)"
        }, 
        {
            "metadata": {}, 
            "cell_type": "markdown", 
            "source": "### Lets define our own reduce function"
        }, 
        {
            "metadata": {
                "collapsed": false
            }, 
            "outputs": [], 
            "cell_type": "code", 
            "execution_count": 25, 
            "source": "def my_reduce(func, lis):\n    my_lis = lis[:]\n    for index in range(len(lis)-1):\n        my_lis[index+1] = func(my_lis[index] ,my_lis[index+1])\n    return my_lis[-1]"
        }, 
        {
            "metadata": {
                "collapsed": false
            }, 
            "outputs": [
                {
                    "output_type": "stream", 
                    "text": "159\n159\n", 
                    "name": "stdout"
                }
            ], 
            "cell_type": "code", 
            "execution_count": 26, 
            "source": "print my_reduce(lambda x,y : x+y, my_list)\nprint reduce(lambda x,y : x+y, my_list)"
        }, 
        {
            "metadata": {}, 
            "cell_type": "markdown", 
            "source": "# SPARK"
        }, 
        {
            "metadata": {
                "collapsed": false
            }, 
            "outputs": [], 
            "cell_type": "code", 
            "execution_count": 18, 
            "source": "# square => filter even numbers => total\n# Do these steps with both python and spark"
        }, 
        {
            "metadata": {
                "collapsed": false
            }, 
            "outputs": [
                {
                    "metadata": {}, 
                    "output_type": "execute_result", 
                    "execution_count": 24, 
                    "data": {
                        "text/plain": "796"
                    }
                }
            ], 
            "cell_type": "code", 
            "execution_count": 24, 
            "source": "# spark version\n# convert my_list to spark's own data type (rdd)\ndata = sc.parallelize(my_list)\n\ndata.map(lambda x: x**2)\\\n        .filter(lambda x: x%2==0)\\\n        .reduce(lambda x,y: x+y)"
        }, 
        {
            "metadata": {
                "collapsed": false
            }, 
            "outputs": [
                {
                    "metadata": {}, 
                    "output_type": "execute_result", 
                    "execution_count": 22, 
                    "data": {
                        "text/plain": "796"
                    }
                }
            ], 
            "cell_type": "code", 
            "execution_count": 22, 
            "source": "## python version by using my_list variable\nreduce(lambda x,y: x+y, filter(lambda x: x%2==0 ,map(lambda x: x**2, my_list)))"
        }, 
        {
            "metadata": {
                "collapsed": true
            }, 
            "outputs": [], 
            "cell_type": "code", 
            "execution_count": null, 
            "source": ""
        }, 
        {
            "metadata": {
                "collapsed": false
            }, 
            "outputs": [], 
            "cell_type": "code", 
            "execution_count": null, 
            "source": ""
        }, 
        {
            "metadata": {
                "collapsed": false
            }, 
            "outputs": [], 
            "cell_type": "code", 
            "execution_count": null, 
            "source": ""
        }, 
        {
            "metadata": {
                "collapsed": false
            }, 
            "outputs": [], 
            "cell_type": "code", 
            "execution_count": null, 
            "source": ""
        }, 
        {
            "metadata": {
                "collapsed": true
            }, 
            "outputs": [], 
            "cell_type": "code", 
            "execution_count": null, 
            "source": ""
        }
    ], 
    "nbformat_minor": 0
}